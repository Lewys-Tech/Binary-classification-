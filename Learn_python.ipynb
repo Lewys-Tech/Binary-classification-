{
 "cells": [
  {
   "cell_type": "code",
   "execution_count": 5,
   "id": "0cc4559b-23be-4851-af0d-ac97efd0cb80",
   "metadata": {},
   "outputs": [
    {
     "name": "stdin",
     "output_type": "stream",
     "text": [
      "what is x? 6\n",
      "what is y? 6\n"
     ]
    },
    {
     "name": "stdout",
     "output_type": "stream",
     "text": [
      "x is equal to y\n"
     ]
    }
   ],
   "source": [
    "#CONDITIONS\n",
    "x=int(input(\"what is x?\"))\n",
    "y=int(input(\"what is y?\"))\n",
    "\n",
    "if x<y:\n",
    "    print(\"x is less than y\")\n",
    "\n",
    "elif x>y:\n",
    "    print(\"x is greater than y\")\n",
    "\n",
    "elif x==y:\n",
    "    print(\"x is equal to y\")"
   ]
  },
  {
   "cell_type": "code",
   "execution_count": 7,
   "id": "a82cee2d-3a11-414d-a9b6-d0cea0060478",
   "metadata": {},
   "outputs": [],
   "source": [
    "#Notice how the use of elif allows the program to make fewer decisions. First, the if statement is evaluated. If this statement is found to be true, all the elif statements will not be run at all. However, if the if statement is evaluated and found to be false, the first elif will be evaluated. If this is true, it will not run the final evaluation."
   ]
  },
  {
   "cell_type": "code",
   "execution_count": 9,
   "id": "583bbf73-8f5e-4798-9753-bf095efc7ae0",
   "metadata": {},
   "outputs": [
    {
     "name": "stdin",
     "output_type": "stream",
     "text": [
      "what is x? 6\n",
      "what is y? 6\n"
     ]
    },
    {
     "name": "stdout",
     "output_type": "stream",
     "text": [
      "x is equal to y\n"
     ]
    }
   ],
   "source": [
    "#however we can improve the above code \n",
    "#logically elif x == y is not a necessary evaluation to run beause if x<y and x>y its automatically x will be equal to y\n",
    "x=int(input(\"what is x?\"))\n",
    "y=int(input(\"what is y?\"))\n",
    "\n",
    "if x<y:\n",
    "    print(\"x is less than y\")\n",
    "\n",
    "elif x>y:\n",
    "    print(\"x is greater than y\")\n",
    "\n",
    "else:\n",
    "    print(\"x is equal to y\")"
   ]
  },
  {
   "cell_type": "code",
   "execution_count": 13,
   "id": "82013dba-73fb-41a0-9fcb-6264c22cca39",
   "metadata": {},
   "outputs": [
    {
     "name": "stdin",
     "output_type": "stream",
     "text": [
      "What's x?  6\n",
      "What's y?  5\n"
     ]
    },
    {
     "name": "stdout",
     "output_type": "stream",
     "text": [
      "x is not equal to y\n"
     ]
    }
   ],
   "source": [
    "#or allows your program to decide between one or more alternatives. For example, we could further edit our program as follows:\n",
    "x = int(input(\"What's x? \"))\n",
    "y = int(input(\"What's y? \"))\n",
    "\n",
    "if x < y or x > y:\n",
    "    print(\"x is not equal to y\")\n",
    "else:\n",
    "    print(\"x is equal to y\")"
   ]
  },
  {
   "cell_type": "code",
   "execution_count": 15,
   "id": "99868ae0-5dc7-4d48-96b4-e8b48e3fba02",
   "metadata": {},
   "outputs": [
    {
     "name": "stdin",
     "output_type": "stream",
     "text": [
      "What's x?  6\n",
      "What's y?  5\n"
     ]
    },
    {
     "name": "stdout",
     "output_type": "stream",
     "text": [
      "x is not equal to y\n"
     ]
    }
   ],
   "source": [
    "#At this point, our code is pretty great. However, could the design be further improved? We could further edit our code as follows:\n",
    "x = int(input(\"What's x? \"))\n",
    "y = int(input(\"What's y? \"))\n",
    "\n",
    "if x!=y:\n",
    "    print(\"x is not equal to y\")\n",
    "else:\n",
    "    print(\"x is equal to y\")"
   ]
  },
  {
   "cell_type": "code",
   "execution_count": 17,
   "id": "ad6ddcf7-cdc1-4efe-8270-d49e7d71f699",
   "metadata": {},
   "outputs": [],
   "source": [
    "#Notice how we removed the or entirely and simply asked, “Is x not equal to y?” We ask one and only one question. Very efficient!"
   ]
  },
  {
   "cell_type": "code",
   "execution_count": 21,
   "id": "c653c738-e97c-45c8-9eb9-282c645e4111",
   "metadata": {},
   "outputs": [
    {
     "name": "stdin",
     "output_type": "stream",
     "text": [
      "What's x?  6\n",
      "What's y?  7\n"
     ]
    },
    {
     "name": "stdout",
     "output_type": "stream",
     "text": [
      "x is not equal to y\n"
     ]
    }
   ],
   "source": [
    "#for the purpose of illustrations we can also write \n",
    "x = int(input(\"What's x? \"))\n",
    "y = int(input(\"What's y? \"))\n",
    "\n",
    "if x == y:\n",
    "    print(\"x is equal to y\")\n",
    "else:\n",
    "    print(\"x is not equal to y\")"
   ]
  },
  {
   "cell_type": "code",
   "execution_count": 23,
   "id": "e0cf0988-4e3b-4249-98e4-2e2fbddddeca",
   "metadata": {},
   "outputs": [],
   "source": [
    "#Notice that the == operator evaluates if what is on the left and right are equal to one another. The use of double equal signs is very important. If you use only one equal sign, an error will likely be thrown by the compiler."
   ]
  },
  {
   "cell_type": "code",
   "execution_count": 31,
   "id": "1c56b696-61de-4d5e-9815-0f3cb3851ef2",
   "metadata": {},
   "outputs": [
    {
     "name": "stdin",
     "output_type": "stream",
     "text": [
      "Score:  5\n"
     ]
    },
    {
     "name": "stdout",
     "output_type": "stream",
     "text": [
      "Grade: F\n"
     ]
    }
   ],
   "source": [
    "#Lets dive to \"and\" condition\n",
    "score = int(input(\"Score: \"))\n",
    "\n",
    "if score >= 90 and score <= 100:\n",
    "    print(\"Grade: A\")\n",
    "elif score >=80 and score < 90:\n",
    "    print(\"Grade: B\")\n",
    "elif score >=70 and score < 80:\n",
    "    print(\"Grade: C\")\n",
    "elif score >=60 and score < 70:\n",
    "    print(\"Grade: D\")\n",
    "else:\n",
    "    print(\"Grade: F\")"
   ]
  },
  {
   "cell_type": "code",
   "execution_count": 33,
   "id": "be26d4c1-8d40-4d49-8858-4e9d0048ddb4",
   "metadata": {},
   "outputs": [],
   "source": [
    "#Notice that by executing python grade.py, you will be able to input a score and get a grade. However, notice how there is potential for bugs."
   ]
  },
  {
   "cell_type": "code",
   "execution_count": 48,
   "id": "2e6497e5-4551-4609-b3b3-d0dfca2e9944",
   "metadata": {},
   "outputs": [
    {
     "name": "stdin",
     "output_type": "stream",
     "text": [
      "Score:  101\n"
     ]
    },
    {
     "name": "stdout",
     "output_type": "stream",
     "text": [
      "Grade: F\n"
     ]
    }
   ],
   "source": [
    "#Typically, we do not want to ever trust our users to input the correct information. We could improve our code as follows:\n",
    "score = int(input(\"Score: \"))\n",
    "\n",
    "if 90 <= score <= 100:\n",
    "    print(\"Grade: A\")\n",
    "elif 80 <= score < 90:\n",
    "    print(\"Grade: B\")\n",
    "elif 70 <= score < 80:\n",
    "    print(\"Grade: C\")\n",
    "elif 60 <= score < 70:\n",
    "    print(\"Grade: D\")\n",
    "else:\n",
    "    print(\"Grade: F\")\n"
   ]
  },
  {
   "cell_type": "code",
   "execution_count": 50,
   "id": "d4b94c1e-8278-4163-8793-fd21d1323076",
   "metadata": {},
   "outputs": [],
   "source": [
    "#Notice how Python allows you to chain together the operators and conditions in a way quite uncommon to other programming languages."
   ]
  },
  {
   "cell_type": "code",
   "execution_count": 54,
   "id": "0e8284b6-aec9-4135-81fa-61f1fd37d9b6",
   "metadata": {},
   "outputs": [
    {
     "name": "stdin",
     "output_type": "stream",
     "text": [
      "Score:  79\n"
     ]
    },
    {
     "name": "stdout",
     "output_type": "stream",
     "text": [
      "Grade: C\n"
     ]
    }
   ],
   "source": [
    "#However we can further improve our program\n",
    "score = int(input(\"Score: \"))\n",
    "\n",
    "if score >= 90:\n",
    "    print(\"Grade: A\")\n",
    "elif score >= 80:\n",
    "    print(\"Grade: B\")\n",
    "elif score >= 70:\n",
    "    print(\"Grade: C\")\n",
    "elif score >= 60:\n",
    "    print(\"Grade: D\")\n",
    "else:\n",
    "    print(\"Grade: F\")"
   ]
  },
  {
   "cell_type": "code",
   "execution_count": null,
   "id": "fe566093-3252-4242-8f6b-a92f22a4d9c3",
   "metadata": {},
   "outputs": [],
   "source": []
  }
 ],
 "metadata": {
  "kernelspec": {
   "display_name": "Python 3 (ipykernel)",
   "language": "python",
   "name": "python3"
  },
  "language_info": {
   "codemirror_mode": {
    "name": "ipython",
    "version": 3
   },
   "file_extension": ".py",
   "mimetype": "text/x-python",
   "name": "python",
   "nbconvert_exporter": "python",
   "pygments_lexer": "ipython3",
   "version": "3.12.7"
  }
 },
 "nbformat": 4,
 "nbformat_minor": 5
}
